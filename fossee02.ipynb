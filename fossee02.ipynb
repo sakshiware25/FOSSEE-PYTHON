{
 "cells": [
  {
   "cell_type": "code",
   "execution_count": 2,
   "id": "874b4baf-4c1f-4acf-a4f7-5f3934538bc6",
   "metadata": {},
   "outputs": [
    {
     "name": "stdout",
     "output_type": "stream",
     "text": [
      "Accessing Elements with Indexing:\n",
      "First element of x: 1\n",
      "Last element of y: 12\n",
      "Third element of z: 9\n"
     ]
    }
   ],
   "source": [
    "# Creating data and storing them in lists\n",
    "x = [1, 2, 3, 4, 5, 6]\n",
    "y = [2, 4, 6, 8, 10, 12]\n",
    "z = [1, 4, 9, 16, 25, 36]\n",
    "\n",
    "# Initializing and accessing list elements with indexing\n",
    "print(\"Accessing Elements with Indexing:\")\n",
    "print(f\"First element of x: {x[0]}\")\n",
    "print(f\"Last element of y: {y[-1]}\")\n",
    "print(f\"Third element of z: {z[2]}\")\n"
   ]
  },
  {
   "cell_type": "code",
   "execution_count": null,
   "id": "cbcbcd14-3eb0-46cf-85f2-40b80517a888",
   "metadata": {},
   "outputs": [],
   "source": []
  }
 ],
 "metadata": {
  "kernelspec": {
   "display_name": "Python 3 (ipykernel)",
   "language": "python",
   "name": "python3"
  },
  "language_info": {
   "codemirror_mode": {
    "name": "ipython",
    "version": 3
   },
   "file_extension": ".py",
   "mimetype": "text/x-python",
   "name": "python",
   "nbconvert_exporter": "python",
   "pygments_lexer": "ipython3",
   "version": "3.11.7"
  }
 },
 "nbformat": 4,
 "nbformat_minor": 5
}
