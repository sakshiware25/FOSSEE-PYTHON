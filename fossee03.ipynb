{
 "cells": [
  {
   "cell_type": "code",
   "execution_count": 1,
   "id": "5a241a95-e45d-4d4a-923e-8371ba557f99",
   "metadata": {},
   "outputs": [
    {
     "name": "stdout",
     "output_type": "stream",
     "text": [
      "\n",
      "List Slicing and Striding:\n",
      "First three elements of x: [1, 2, 3]\n",
      "Every second element of y: [2, 6, 10]\n",
      "Reversed z: [36, 25, 16, 9, 4, 1]\n"
     ]
    }
   ],
   "source": [
    "# Creating data and storing them in lists\n",
    "x = [1, 2, 3, 4, 5, 6]\n",
    "y = [2, 4, 6, 8, 10, 12]\n",
    "z = [1, 4, 9, 16, 25, 36]\n",
    "\n",
    "#  List slicing, striding, and list operations\n",
    "print(\"\\nList Slicing and Striding:\")\n",
    "print(f\"First three elements of x: {x[:3]}\")\n",
    "print(f\"Every second element of y: {y[::2]}\")\n",
    "print(f\"Reversed z: {z[::-1]}\")"
   ]
  },
  {
   "cell_type": "code",
   "execution_count": null,
   "id": "bcaa64a4-b0e1-4d45-8aad-ed5bf0f2638d",
   "metadata": {},
   "outputs": [],
   "source": []
  }
 ],
 "metadata": {
  "kernelspec": {
   "display_name": "Python 3 (ipykernel)",
   "language": "python",
   "name": "python3"
  },
  "language_info": {
   "codemirror_mode": {
    "name": "ipython",
    "version": 3
   },
   "file_extension": ".py",
   "mimetype": "text/x-python",
   "name": "python",
   "nbconvert_exporter": "python",
   "pygments_lexer": "ipython3",
   "version": "3.11.7"
  }
 },
 "nbformat": 4,
 "nbformat_minor": 5
}
