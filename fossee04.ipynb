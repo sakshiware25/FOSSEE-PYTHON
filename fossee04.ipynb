{
 "cells": [
  {
   "cell_type": "code",
   "execution_count": 1,
   "id": "bf5c27bd-6ca6-4df5-a144-0b512268acc0",
   "metadata": {},
   "outputs": [
    {
     "name": "stdout",
     "output_type": "stream",
     "text": [
      "\n",
      "List Operations:\n",
      "Sum of x and y element-wise: [3, 6, 9, 12, 15, 18]\n",
      "\n",
      "Looping Over a List:\n",
      "Element at index 0 in x: 1\n",
      "Element at index 1 in x: 2\n",
      "Element at index 2 in x: 3\n",
      "Element at index 3 in x: 4\n",
      "Element at index 4 in x: 5\n",
      "Element at index 5 in x: 6\n"
     ]
    }
   ],
   "source": [
    "\n",
    "# Creating data and storing them in lists\n",
    "x = [1, 2, 3, 4, 5, 6]\n",
    "y = [2, 4, 6, 8, 10, 12]\n",
    "z = [1, 4, 9, 16, 25, 36]\n",
    "\n",
    "# List operations\n",
    "list_sum = [x[i] + y[i] for i in range(len(x))]\n",
    "print(\"\\nList Operations:\")\n",
    "print(f\"Sum of x and y element-wise: {list_sum}\")\n",
    "\n",
    "#  Looping over a list with for\n",
    "print(\"\\nLooping Over a List:\")\n",
    "for i, value in enumerate(x):\n",
    "    print(f\"Element at index {i} in x: {value}\")"
   ]
  },
  {
   "cell_type": "code",
   "execution_count": null,
   "id": "7180394a-967c-4d28-870f-9f4304bd4527",
   "metadata": {},
   "outputs": [],
   "source": []
  }
 ],
 "metadata": {
  "kernelspec": {
   "display_name": "Python 3 (ipykernel)",
   "language": "python",
   "name": "python3"
  },
  "language_info": {
   "codemirror_mode": {
    "name": "ipython",
    "version": 3
   },
   "file_extension": ".py",
   "mimetype": "text/x-python",
   "name": "python",
   "nbconvert_exporter": "python",
   "pygments_lexer": "ipython3",
   "version": "3.11.7"
  }
 },
 "nbformat": 4,
 "nbformat_minor": 5
}
